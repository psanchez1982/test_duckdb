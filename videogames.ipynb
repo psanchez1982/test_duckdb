{
 "cells": [
  {
   "cell_type": "code",
   "execution_count": 20,
   "metadata": {},
   "outputs": [],
   "source": [
    "import duckdb\n",
    "import pandas"
   ]
  },
  {
   "cell_type": "code",
   "execution_count": 59,
   "metadata": {},
   "outputs": [
    {
     "data": {
      "text/plain": [
       "['column00',\n",
       " 'Title',\n",
       " 'Release Date',\n",
       " 'Team',\n",
       " 'Rating',\n",
       " 'Times Listed',\n",
       " 'Number of Reviews',\n",
       " 'Genres',\n",
       " 'Summary',\n",
       " 'Reviews',\n",
       " 'Plays',\n",
       " 'Playing',\n",
       " 'Backlogs',\n",
       " 'Wishlist',\n",
       " 'Plays_FLOAT']"
      ]
     },
     "execution_count": 59,
     "metadata": {},
     "output_type": "execute_result"
    }
   ],
   "source": [
    "df_games.columns"
   ]
  },
  {
   "cell_type": "code",
   "execution_count": 60,
   "metadata": {},
   "outputs": [
    {
     "data": {
      "text/plain": [
       "┌─────────────────────────────────────────┬─────────────┐\n",
       "│                  Title                  │ total_plays │\n",
       "│                 varchar                 │   double    │\n",
       "├─────────────────────────────────────────┼─────────────┤\n",
       "│ Minecraft                               │    110000.0 │\n",
       "│ The Legend of Zelda: Breath of the Wild │     90000.0 │\n",
       "│ Grand Theft Auto V                      │     90000.0 │\n",
       "│ Doom                                    │     89300.0 │\n",
       "│ Portal 2                                │     87000.0 │\n",
       "│ Undertale                               │     84000.0 │\n",
       "│ Portal                                  │     84000.0 │\n",
       "│ Among Us                                │     75000.0 │\n",
       "│ Super Mario Odyssey                     │     75000.0 │\n",
       "│ Super Smash Bros. Ultimate              │     75000.0 │\n",
       "├─────────────────────────────────────────┴─────────────┤\n",
       "│ 10 rows                                     2 columns │\n",
       "└───────────────────────────────────────────────────────┘"
      ]
     },
     "execution_count": 60,
     "metadata": {},
     "output_type": "execute_result"
    }
   ],
   "source": [
    "duckdb.query(\"\"\"    SELECT TITLE, SUM(PLAYS_FLOAT) as total_plays FROM \n",
    "                    df_games\n",
    "                    group by title\n",
    "                    order by total_plays desc\n",
    "                    LIMIT 10\n",
    "                  \"\"\")"
   ]
  },
  {
   "cell_type": "code",
   "execution_count": null,
   "metadata": {},
   "outputs": [],
   "source": [
    "duckdb.query(\"\"\"    SELECT \\\"Release Date\\\", TITLE, SUM(PLAYS_FLOAT) as total_plays FROM \n",
    "                    df_games\n",
    "                    group by title\n",
    "                    order by total_plays desc\n",
    "                    LIMIT 10\n",
    "                  \"\"\")"
   ]
  }
 ],
 "metadata": {
  "kernelspec": {
   "display_name": "base",
   "language": "python",
   "name": "python3"
  },
  "language_info": {
   "codemirror_mode": {
    "name": "ipython",
    "version": 3
   },
   "file_extension": ".py",
   "mimetype": "text/x-python",
   "name": "python",
   "nbconvert_exporter": "python",
   "pygments_lexer": "ipython3",
   "version": "3.9.16"
  },
  "orig_nbformat": 4,
  "vscode": {
   "interpreter": {
    "hash": "9a858221a8066a154266a8dc1981b32eb9868c3b23978ec09619b9330f5323b2"
   }
  }
 },
 "nbformat": 4,
 "nbformat_minor": 2
}
