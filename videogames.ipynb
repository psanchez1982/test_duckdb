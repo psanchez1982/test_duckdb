{
 "cells": [
  {
   "cell_type": "code",
   "execution_count": 20,
   "metadata": {},
   "outputs": [],
   "source": [
    "import duckdb\n",
    "import pandas"
   ]
  },
  {
   "cell_type": "code",
   "execution_count": 71,
   "metadata": {},
   "outputs": [],
   "source": [
    "df_games = duckdb.query(\"SELECT * FROM 'games.csv'\")"
   ]
  },
  {
   "cell_type": "code",
   "execution_count": 72,
   "metadata": {},
   "outputs": [
    {
     "data": {
      "text/plain": [
       "['column00',\n",
       " 'Title',\n",
       " 'Release Date',\n",
       " 'Team',\n",
       " 'Rating',\n",
       " 'Times Listed',\n",
       " 'Number of Reviews',\n",
       " 'Genres',\n",
       " 'Summary',\n",
       " 'Reviews',\n",
       " 'Plays',\n",
       " 'Playing',\n",
       " 'Backlogs',\n",
       " 'Wishlist']"
      ]
     },
     "execution_count": 72,
     "metadata": {},
     "output_type": "execute_result"
    }
   ],
   "source": [
    "df_games.columns"
   ]
  },
  {
   "cell_type": "code",
   "execution_count": 73,
   "metadata": {},
   "outputs": [],
   "source": [
    "df_games_processed =  duckdb.query(\"\"\"SELECT *,\n",
    "                 RIGHT(\\\"Release Date\\\",4) as Year,\n",
    "                 CASE WHEN contains(Plays, 'K') THEN\n",
    "                    CAST(replace(Plays, 'K', '') as FLOAT)*1000\n",
    "                    ELSE\n",
    "                    CAST(Plays AS FLOAT)\n",
    "                    END as Plays_Float\n",
    "                 FROM df_games\"\"\")"
   ]
  },
  {
   "cell_type": "code",
   "execution_count": 76,
   "metadata": {},
   "outputs": [
    {
     "data": {
      "text/plain": [
       "┌─────────────────────────────────────────┬─────────────┐\n",
       "│                  Title                  │ total_plays │\n",
       "│                 varchar                 │   double    │\n",
       "├─────────────────────────────────────────┼─────────────┤\n",
       "│ Minecraft                               │    110000.0 │\n",
       "│ The Legend of Zelda: Breath of the Wild │     90000.0 │\n",
       "│ Grand Theft Auto V                      │     90000.0 │\n",
       "│ Doom                                    │     89300.0 │\n",
       "│ Portal 2                                │     87000.0 │\n",
       "│ Undertale                               │     84000.0 │\n",
       "│ Portal                                  │     84000.0 │\n",
       "│ Among Us                                │     75000.0 │\n",
       "│ Super Mario Odyssey                     │     75000.0 │\n",
       "│ Super Smash Bros. Ultimate              │     75000.0 │\n",
       "├─────────────────────────────────────────┴─────────────┤\n",
       "│ 10 rows                                     2 columns │\n",
       "└───────────────────────────────────────────────────────┘"
      ]
     },
     "execution_count": 76,
     "metadata": {},
     "output_type": "execute_result"
    }
   ],
   "source": [
    "duckdb.query(\"\"\"    SELECT TITLE, SUM(Plays_Float) as total_plays FROM \n",
    "                    df_games_processed\n",
    "                  \n",
    "                    group by title\n",
    "                    order by total_plays desc\n",
    "                    LIMIT 10\n",
    "                  \"\"\")"
   ]
  },
  {
   "cell_type": "code",
   "execution_count": 107,
   "metadata": {},
   "outputs": [
    {
     "data": {
      "text/plain": [
       "┌─────────┬────────────────────────────────────────────────────────────────────────────┬─────────────┐\n",
       "│  Year   │ first(\"Title\") OVER (PARTITION BY \"Year\" ORDER BY sum(\"Plays_Float\") DESC) │ total_plays │\n",
       "│ varchar │                                  varchar                                   │   double    │\n",
       "├─────────┼────────────────────────────────────────────────────────────────────────────┼─────────────┤\n",
       "│ 2023    │ Hi-Fi Rush                                                                 │      9000.0 │\n",
       "│ 2022    │ Elden Ring                                                                 │     51000.0 │\n",
       "│ 2021    │ Resident Evil Village                                                      │     29700.0 │\n",
       "│ 2020    │ Genshin Impact                                                             │     42000.0 │\n",
       "│ 2019    │ Hades                                                                      │     63000.0 │\n",
       "│ 2018    │ Among Us                                                                   │     75000.0 │\n",
       "│ 2017    │ The Legend of Zelda: Breath of the Wild                                    │     90000.0 │\n",
       "│ 2016    │ Stardew Valley                                                             │     60000.0 │\n",
       "│ 2015    │ Undertale                                                                  │     84000.0 │\n",
       "│ 2014    │ Chrome Dino                                                                │     42000.0 │\n",
       "│  ·      │      ·                                                                     │        ·    │\n",
       "│  ·      │      ·                                                                     │        ·    │\n",
       "│  ·      │      ·                                                                     │        ·    │\n",
       "│ 1992    │ Sonic the Hedgehog 2                                                       │     11400.0 │\n",
       "│ 1991    │ Sonic the Hedgehog                                                         │     36000.0 │\n",
       "│ 1990    │ Super Mario World                                                          │     18000.0 │\n",
       "│ 1989    │ Tetris                                                                     │     21700.0 │\n",
       "│ 1988    │ Super Mario Bros. 3                                                        │     42000.0 │\n",
       "│ 1987    │ Mega Man                                                                   │      5400.0 │\n",
       "│ 1986    │ The Legend of Zelda                                                        │     18600.0 │\n",
       "│ 1985    │ Super Mario Bros.                                                          │     18000.0 │\n",
       "│ 1982    │ Ms. Pac-Man                                                                │      1600.0 │\n",
       "│ 1980    │ Pac-Man                                                                    │      5200.0 │\n",
       "├─────────┴────────────────────────────────────────────────────────────────────────────┴─────────────┤\n",
       "│ 41 rows (20 shown)                                                                       3 columns │\n",
       "└────────────────────────────────────────────────────────────────────────────────────────────────────┘"
      ]
     },
     "execution_count": 107,
     "metadata": {},
     "output_type": "execute_result"
    }
   ],
   "source": [
    "duckdb.query(\"\"\"    SELECT DISTINCT Year, \n",
    "                  first(Title)  OVER(partition by Year order by SUM(Plays_Float) desc), \n",
    "                  max(SUM(Plays_Float)) OVER(partition by Year order by SUM(Plays_Float) desc) as total_plays\n",
    "                  FROM \n",
    "                    df_games_processed  \n",
    "                    where trim(year) != 'TBD' and year <= '2023'         \n",
    "                    group by Year, title                               \n",
    "                    order by Year desc\n",
    "                  \"\"\")"
   ]
  },
  {
   "cell_type": "markdown",
   "metadata": {},
   "source": []
  }
 ],
 "metadata": {
  "kernelspec": {
   "display_name": "base",
   "language": "python",
   "name": "python3"
  },
  "language_info": {
   "codemirror_mode": {
    "name": "ipython",
    "version": 3
   },
   "file_extension": ".py",
   "mimetype": "text/x-python",
   "name": "python",
   "nbconvert_exporter": "python",
   "pygments_lexer": "ipython3",
   "version": "3.9.16"
  },
  "orig_nbformat": 4,
  "vscode": {
   "interpreter": {
    "hash": "9a858221a8066a154266a8dc1981b32eb9868c3b23978ec09619b9330f5323b2"
   }
  }
 },
 "nbformat": 4,
 "nbformat_minor": 2
}
